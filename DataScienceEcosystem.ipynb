{
 "cells": [
  {
   "cell_type": "markdown",
   "id": "81c5ca3e",
   "metadata": {},
   "source": [
    "# Data Science Tools and Ecosystem "
   ]
  },
  {
   "cell_type": "markdown",
   "id": "dfa4e7ba",
   "metadata": {},
   "source": [
    "In this notebook, Data Science Tools and Ecosystem are summarized."
   ]
  },
  {
   "cell_type": "markdown",
   "id": "1bbe9ff5",
   "metadata": {},
   "source": [
    " __Objectives:__ \n",
    " - List popular languages for Data Science\n",
    "- list commonly used libraries in data science\n",
    "- evaluate some arithmetic expressions in python\n",
    "## Author\n",
    "Majd Souissi"
   ]
  },
  {
   "cell_type": "markdown",
   "id": "1517121c",
   "metadata": {},
   "source": [
    "#### Some of the popular languages that Data Scientists use are:"
   ]
  },
  {
   "cell_type": "markdown",
   "id": "52afb951",
   "metadata": {},
   "source": [
    "1. python\n",
    "2. R\n",
    "3. SQL\n",
    "4. Julia"
   ]
  },
  {
   "cell_type": "markdown",
   "id": "e79f3608",
   "metadata": {},
   "source": [
    "#### Some of the commonly used libraries used by Data Scientists include:"
   ]
  },
  {
   "cell_type": "markdown",
   "id": "f0db02ba",
   "metadata": {},
   "source": [
    "1. pandas\n",
    "2. seaborn\n",
    "3. ggplot"
   ]
  },
  {
   "cell_type": "markdown",
   "id": "e8911695",
   "metadata": {},
   "source": [
    "### Data Science Tools\n",
    "| data science tools |\n",
    "|:--------:|\n",
    "|Rstudio|\n",
    "|Jupyternotebook|\n",
    "|Github|"
   ]
  },
  {
   "cell_type": "markdown",
   "id": "7d8b8c06",
   "metadata": {},
   "source": [
    "### Below are a few examples of evaluating arithmetic expressions in Python"
   ]
  },
  {
   "cell_type": "code",
   "execution_count": 2,
   "id": "84b57062",
   "metadata": {},
   "outputs": [
    {
     "data": {
      "text/plain": [
       "17"
      ]
     },
     "execution_count": 2,
     "metadata": {},
     "output_type": "execute_result"
    }
   ],
   "source": [
    "#This a simple arithmetic expression to mutiply then add integers\n",
    "(3*4)+5"
   ]
  },
  {
   "cell_type": "code",
   "execution_count": 3,
   "id": "089dadbc",
   "metadata": {},
   "outputs": [
    {
     "data": {
      "text/plain": [
       "3"
      ]
     },
     "execution_count": 3,
     "metadata": {},
     "output_type": "execute_result"
    }
   ],
   "source": [
    "#This will convert 200 minutes to hours by diving by 60\n",
    "200//60"
   ]
  }
 ],
 "metadata": {
  "kernelspec": {
   "display_name": "Python 3 (ipykernel)",
   "language": "python",
   "name": "python3"
  },
  "language_info": {
   "codemirror_mode": {
    "name": "ipython",
    "version": 3
   },
   "file_extension": ".py",
   "mimetype": "text/x-python",
   "name": "python",
   "nbconvert_exporter": "python",
   "pygments_lexer": "ipython3",
   "version": "3.11.5"
  }
 },
 "nbformat": 4,
 "nbformat_minor": 5
}
